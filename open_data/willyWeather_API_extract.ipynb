{
 "cells": [
  {
   "cell_type": "markdown",
   "metadata": {},
   "source": [
    "## Extract API \n",
    "''' This notebook contains codes that are used to get the willy weather API data, including cleaning and preprocessing. The output file is CSV file\n",
    "'''"
   ]
  },
  {
   "cell_type": "code",
   "execution_count": 1,
   "metadata": {},
   "outputs": [],
   "source": [
    "#libraries\n",
    "import requests\n",
    "import json\n",
    "import pandas as pd\n",
    "import datetime"
   ]
  },
  {
   "cell_type": "code",
   "execution_count": 2,
   "metadata": {},
   "outputs": [],
   "source": [
    "#call willy weather API\n",
    "url = \"https://api.willyweather.com.au/v2/N2FkOTJkOWFkZDA4NWIzOTZlODhkOD/locations/13960/weather.json?forecasts=tides&days=300&startDate=2021-04-01\"\n",
    "#request\n",
    "resp = requests.get(url)\n",
    "#load\n",
    "mel_VIC = json.loads(resp.text)"
   ]
  },
  {
   "cell_type": "markdown",
   "metadata": {},
   "source": [
    "### Preprocess and Clean Data"
   ]
  },
  {
   "cell_type": "code",
   "execution_count": 3,
   "metadata": {},
   "outputs": [],
   "source": [
    "#get each date\n",
    "dates = mel_VIC['forecasts']['tides']['days']\n",
    "#create datframe\n",
    "date_tide = pd.DataFrame(columns = ['id', 'date', 'time', 'height', 'type'])\n",
    "\n",
    "tide_id = []\n",
    "date = []\n",
    "time = []\n",
    "height = []\n",
    "tide_type = []\n",
    "i = 0\n",
    "for dat in dates:\n",
    "    for day in dat['entries']:\n",
    "        tide_id.append('tide'+str(i))\n",
    "        date_time = datetime.datetime.strptime(day['dateTime'], \"%Y-%m-%d  %H:%M:%S\")\n",
    "        date.append(date_time.date())\n",
    "        time.append(date_time.time())\n",
    "        height.append(day['height'])\n",
    "        tide_type.append(day['type'])\n",
    "        i += 1"
   ]
  },
  {
   "cell_type": "code",
   "execution_count": 4,
   "metadata": {},
   "outputs": [],
   "source": [
    "#add data to dataframe\n",
    "date_tide['id'] = tide_id\n",
    "date_tide['date'] = date\n",
    "date_tide['time'] = time\n",
    "date_tide['height'] = height\n",
    "date_tide['type'] = tide_type"
   ]
  },
  {
   "cell_type": "code",
   "execution_count": 5,
   "metadata": {},
   "outputs": [
    {
     "data": {
      "text/html": [
       "<div>\n",
       "<style scoped>\n",
       "    .dataframe tbody tr th:only-of-type {\n",
       "        vertical-align: middle;\n",
       "    }\n",
       "\n",
       "    .dataframe tbody tr th {\n",
       "        vertical-align: top;\n",
       "    }\n",
       "\n",
       "    .dataframe thead th {\n",
       "        text-align: right;\n",
       "    }\n",
       "</style>\n",
       "<table border=\"1\" class=\"dataframe\">\n",
       "  <thead>\n",
       "    <tr style=\"text-align: right;\">\n",
       "      <th></th>\n",
       "      <th>id</th>\n",
       "      <th>date</th>\n",
       "      <th>time</th>\n",
       "      <th>height</th>\n",
       "      <th>type</th>\n",
       "    </tr>\n",
       "  </thead>\n",
       "  <tbody>\n",
       "    <tr>\n",
       "      <td>0</td>\n",
       "      <td>tide0</td>\n",
       "      <td>2021-04-01</td>\n",
       "      <td>00:37:00</td>\n",
       "      <td>0.39</td>\n",
       "      <td>low</td>\n",
       "    </tr>\n",
       "    <tr>\n",
       "      <td>1</td>\n",
       "      <td>tide1</td>\n",
       "      <td>2021-04-01</td>\n",
       "      <td>06:08:00</td>\n",
       "      <td>0.91</td>\n",
       "      <td>high</td>\n",
       "    </tr>\n",
       "    <tr>\n",
       "      <td>2</td>\n",
       "      <td>tide2</td>\n",
       "      <td>2021-04-01</td>\n",
       "      <td>12:56:00</td>\n",
       "      <td>0.22</td>\n",
       "      <td>low</td>\n",
       "    </tr>\n",
       "    <tr>\n",
       "      <td>3</td>\n",
       "      <td>tide3</td>\n",
       "      <td>2021-04-01</td>\n",
       "      <td>19:06:00</td>\n",
       "      <td>0.99</td>\n",
       "      <td>high</td>\n",
       "    </tr>\n",
       "    <tr>\n",
       "      <td>4</td>\n",
       "      <td>tide4</td>\n",
       "      <td>2021-04-02</td>\n",
       "      <td>01:21:00</td>\n",
       "      <td>0.42</td>\n",
       "      <td>low</td>\n",
       "    </tr>\n",
       "    <tr>\n",
       "      <td>...</td>\n",
       "      <td>...</td>\n",
       "      <td>...</td>\n",
       "      <td>...</td>\n",
       "      <td>...</td>\n",
       "      <td>...</td>\n",
       "    </tr>\n",
       "    <tr>\n",
       "      <td>1058</td>\n",
       "      <td>tide1058</td>\n",
       "      <td>2021-12-30</td>\n",
       "      <td>18:01:00</td>\n",
       "      <td>0.27</td>\n",
       "      <td>low</td>\n",
       "    </tr>\n",
       "    <tr>\n",
       "      <td>1059</td>\n",
       "      <td>tide1059</td>\n",
       "      <td>2021-12-31</td>\n",
       "      <td>00:25:00</td>\n",
       "      <td>0.80</td>\n",
       "      <td>high</td>\n",
       "    </tr>\n",
       "    <tr>\n",
       "      <td>1060</td>\n",
       "      <td>tide1060</td>\n",
       "      <td>2021-12-31</td>\n",
       "      <td>05:48:00</td>\n",
       "      <td>0.51</td>\n",
       "      <td>low</td>\n",
       "    </tr>\n",
       "    <tr>\n",
       "      <td>1061</td>\n",
       "      <td>tide1061</td>\n",
       "      <td>2021-12-31</td>\n",
       "      <td>11:49:00</td>\n",
       "      <td>0.89</td>\n",
       "      <td>high</td>\n",
       "    </tr>\n",
       "    <tr>\n",
       "      <td>1062</td>\n",
       "      <td>tide1062</td>\n",
       "      <td>2021-12-31</td>\n",
       "      <td>19:03:00</td>\n",
       "      <td>0.23</td>\n",
       "      <td>low</td>\n",
       "    </tr>\n",
       "  </tbody>\n",
       "</table>\n",
       "<p>1063 rows × 5 columns</p>\n",
       "</div>"
      ],
      "text/plain": [
       "            id        date      time  height  type\n",
       "0        tide0  2021-04-01  00:37:00    0.39   low\n",
       "1        tide1  2021-04-01  06:08:00    0.91  high\n",
       "2        tide2  2021-04-01  12:56:00    0.22   low\n",
       "3        tide3  2021-04-01  19:06:00    0.99  high\n",
       "4        tide4  2021-04-02  01:21:00    0.42   low\n",
       "...        ...         ...       ...     ...   ...\n",
       "1058  tide1058  2021-12-30  18:01:00    0.27   low\n",
       "1059  tide1059  2021-12-31  00:25:00    0.80  high\n",
       "1060  tide1060  2021-12-31  05:48:00    0.51   low\n",
       "1061  tide1061  2021-12-31  11:49:00    0.89  high\n",
       "1062  tide1062  2021-12-31  19:03:00    0.23   low\n",
       "\n",
       "[1063 rows x 5 columns]"
      ]
     },
     "execution_count": 5,
     "metadata": {},
     "output_type": "execute_result"
    }
   ],
   "source": [
    "#show data\n",
    "date_tide"
   ]
  },
  {
   "cell_type": "code",
   "execution_count": 6,
   "metadata": {},
   "outputs": [],
   "source": [
    "#save to csv file\n",
    "date_tide.to_csv('tide_date_data.csv')"
   ]
  }
 ],
 "metadata": {
  "kernelspec": {
   "display_name": "Python 3",
   "language": "python",
   "name": "python3"
  },
  "language_info": {
   "codemirror_mode": {
    "name": "ipython",
    "version": 3
   },
   "file_extension": ".py",
   "mimetype": "text/x-python",
   "name": "python",
   "nbconvert_exporter": "python",
   "pygments_lexer": "ipython3",
   "version": "3.7.4"
  }
 },
 "nbformat": 4,
 "nbformat_minor": 2
}
